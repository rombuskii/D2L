{
  "cells": [
    {
      "cell_type": "markdown",
      "metadata": {
        "id": "view-in-github",
        "colab_type": "text"
      },
      "source": [
        "<a href=\"https://colab.research.google.com/github/rombuskii/D2L/blob/main/chapter_preliminaries/pandas.ipynb\" target=\"_parent\"><img src=\"https://colab.research.google.com/assets/colab-badge.svg\" alt=\"Open In Colab\"/></a>"
      ]
    },
    {
      "cell_type": "markdown",
      "id": "3766a2be",
      "metadata": {
        "origin_pos": 1,
        "id": "3766a2be"
      },
      "source": [
        "# Data Preprocessing\n",
        ":label:`sec_pandas`\n",
        "\n",
        "So far, we have been working with synthetic data\n",
        "that arrived in ready-made tensors.\n",
        "However, to apply deep learning in the wild\n",
        "we must extract messy data\n",
        "stored in arbitrary formats,\n",
        "and preprocess it to suit our needs.\n",
        "Fortunately, the *pandas* [library](https://pandas.pydata.org/)\n",
        "can do much of the heavy lifting.\n",
        "This section, while no substitute\n",
        "for a proper *pandas* [tutorial](https://pandas.pydata.org/pandas-docs/stable/user_guide/10min.html),\n",
        "will give you a crash course\n",
        "on some of the most common routines.\n",
        "\n",
        "## Reading the Dataset\n",
        "\n",
        "Comma-separated values (CSV) files are ubiquitous\n",
        "for the storing of tabular (spreadsheet-like) data.\n",
        "In them, each line corresponds to one record\n",
        "and consists of several (comma-separated) fields, e.g.,\n",
        "\"Albert Einstein,March 14 1879,Ulm,Federal polytechnic school,field of gravitational physics\".\n",
        "To demonstrate how to load CSV files with `pandas`,\n",
        "we (**create a CSV file below**) `../data/house_tiny.csv`.\n",
        "This file represents a dataset of homes,\n",
        "where each row corresponds to a distinct home\n",
        "and the columns correspond to the number of rooms (`NumRooms`),\n",
        "the roof type (`RoofType`), and the price (`Price`).\n"
      ]
    },
    {
      "cell_type": "code",
      "execution_count": 1,
      "id": "2bea3f1b",
      "metadata": {
        "execution": {
          "iopub.execute_input": "2023-08-18T19:31:20.494944Z",
          "iopub.status.busy": "2023-08-18T19:31:20.494290Z",
          "iopub.status.idle": "2023-08-18T19:31:20.505610Z",
          "shell.execute_reply": "2023-08-18T19:31:20.504677Z"
        },
        "origin_pos": 2,
        "tab": [
          "pytorch"
        ],
        "id": "2bea3f1b"
      },
      "outputs": [],
      "source": [
        "import os\n",
        "\n",
        "os.makedirs(os.path.join('..', 'data'), exist_ok=True)\n",
        "data_file = os.path.join('..', 'data', 'house_tiny.csv')\n",
        "with open(data_file, 'w') as f:\n",
        "    f.write('''NumRooms,RoofType,Price\n",
        "NA,NA,127500\n",
        "2,NA,106000\n",
        "4,Slate,178100\n",
        "NA,NA,140000''')"
      ]
    },
    {
      "cell_type": "markdown",
      "id": "a73772a6",
      "metadata": {
        "origin_pos": 3,
        "id": "a73772a6"
      },
      "source": [
        "Now let's import `pandas` and load the dataset with `read_csv`.\n"
      ]
    },
    {
      "cell_type": "code",
      "execution_count": 2,
      "id": "9ae201e1",
      "metadata": {
        "execution": {
          "iopub.execute_input": "2023-08-18T19:31:20.510380Z",
          "iopub.status.busy": "2023-08-18T19:31:20.509849Z",
          "iopub.status.idle": "2023-08-18T19:31:21.105668Z",
          "shell.execute_reply": "2023-08-18T19:31:21.104596Z"
        },
        "origin_pos": 4,
        "tab": [
          "pytorch"
        ],
        "id": "9ae201e1",
        "outputId": "0fbe5cb5-738b-4ae3-e65c-415e403688f8",
        "colab": {
          "base_uri": "https://localhost:8080/"
        }
      },
      "outputs": [
        {
          "output_type": "stream",
          "name": "stdout",
          "text": [
            "   NumRooms RoofType   Price\n",
            "0       NaN      NaN  127500\n",
            "1       2.0      NaN  106000\n",
            "2       4.0    Slate  178100\n",
            "3       NaN      NaN  140000\n"
          ]
        }
      ],
      "source": [
        "import pandas as pd\n",
        "\n",
        "data = pd.read_csv(data_file)\n",
        "print(data)"
      ]
    },
    {
      "cell_type": "markdown",
      "id": "2bcb4eec",
      "metadata": {
        "origin_pos": 5,
        "id": "2bcb4eec"
      },
      "source": [
        "## Data Preparation\n",
        "\n",
        "In supervised learning, we train models\n",
        "to predict a designated *target* value,\n",
        "given some set of *input* values.\n",
        "Our first step in processing the dataset\n",
        "is to separate out columns corresponding\n",
        "to input versus target values.\n",
        "We can select columns either by name or\n",
        "via integer-location based indexing (`iloc`).\n",
        "\n",
        "You might have noticed that `pandas` replaced\n",
        "all CSV entries with value `NA`\n",
        "with a special `NaN` (*not a number*) value.\n",
        "This can also happen whenever an entry is empty,\n",
        "e.g., \"3,,,270000\".\n",
        "These are called *missing values*\n",
        "and they are the \"bed bugs\" of data science,\n",
        "a persistent menace that you will confront\n",
        "throughout your career.\n",
        "Depending upon the context,\n",
        "missing values might be handled\n",
        "either via *imputation* or *deletion*.\n",
        "Imputation replaces missing values\n",
        "with estimates of their values\n",
        "while deletion simply discards\n",
        "either those rows or those columns\n",
        "that contain missing values.\n",
        "\n",
        "Here are some common imputation heuristics.\n",
        "[**For categorical input fields,\n",
        "we can treat `NaN` as a category.**]\n",
        "Since the `RoofType` column takes values `Slate` and `NaN`,\n",
        "`pandas` can convert this column\n",
        "into two columns `RoofType_Slate` and `RoofType_nan`.\n",
        "A row whose roof type is `Slate` will set values\n",
        "of `RoofType_Slate` and `RoofType_nan` to 1 and 0, respectively.\n",
        "The converse holds for a row with a missing `RoofType` value.\n"
      ]
    },
    {
      "cell_type": "code",
      "execution_count": 3,
      "id": "f92e80b6",
      "metadata": {
        "execution": {
          "iopub.execute_input": "2023-08-18T19:31:21.109879Z",
          "iopub.status.busy": "2023-08-18T19:31:21.109243Z",
          "iopub.status.idle": "2023-08-18T19:31:21.120081Z",
          "shell.execute_reply": "2023-08-18T19:31:21.119081Z"
        },
        "origin_pos": 6,
        "tab": [
          "pytorch"
        ],
        "id": "f92e80b6",
        "outputId": "b5898c9e-6efa-4857-f00d-c4b43d979ea0",
        "colab": {
          "base_uri": "https://localhost:8080/"
        }
      },
      "outputs": [
        {
          "output_type": "stream",
          "name": "stdout",
          "text": [
            "   NumRooms  RoofType_Slate  RoofType_nan\n",
            "0       NaN               0             1\n",
            "1       2.0               0             1\n",
            "2       4.0               1             0\n",
            "3       NaN               0             1\n"
          ]
        }
      ],
      "source": [
        "inputs, targets = data.iloc[:, 0:2], data.iloc[:, 2]\n",
        "inputs = pd.get_dummies(inputs, dummy_na=True)\n",
        "print(inputs)"
      ]
    },
    {
      "cell_type": "markdown",
      "id": "fea48715",
      "metadata": {
        "origin_pos": 7,
        "id": "fea48715"
      },
      "source": [
        "For missing numerical values,\n",
        "one common heuristic is to\n",
        "[**replace the `NaN` entries with\n",
        "the mean value of the corresponding column**].\n"
      ]
    },
    {
      "cell_type": "code",
      "execution_count": 4,
      "id": "37e8e900",
      "metadata": {
        "execution": {
          "iopub.execute_input": "2023-08-18T19:31:21.123941Z",
          "iopub.status.busy": "2023-08-18T19:31:21.123273Z",
          "iopub.status.idle": "2023-08-18T19:31:21.132513Z",
          "shell.execute_reply": "2023-08-18T19:31:21.131522Z"
        },
        "origin_pos": 8,
        "tab": [
          "pytorch"
        ],
        "id": "37e8e900",
        "outputId": "1a0e16db-c6c0-4b3e-d2c5-c64f3a1a0e5a",
        "colab": {
          "base_uri": "https://localhost:8080/"
        }
      },
      "outputs": [
        {
          "output_type": "stream",
          "name": "stdout",
          "text": [
            "   NumRooms  RoofType_Slate  RoofType_nan\n",
            "0       3.0               0             1\n",
            "1       2.0               0             1\n",
            "2       4.0               1             0\n",
            "3       3.0               0             1\n"
          ]
        }
      ],
      "source": [
        "inputs = inputs.fillna(inputs.mean())\n",
        "print(inputs)"
      ]
    },
    {
      "cell_type": "markdown",
      "id": "a6d535cf",
      "metadata": {
        "origin_pos": 9,
        "id": "a6d535cf"
      },
      "source": [
        "## Conversion to the Tensor Format\n",
        "\n",
        "Now that [**all the entries in `inputs` and `targets` are numerical,\n",
        "we can load them into a tensor**] (recall :numref:`sec_ndarray`).\n"
      ]
    },
    {
      "cell_type": "code",
      "execution_count": 5,
      "id": "d211233b",
      "metadata": {
        "execution": {
          "iopub.execute_input": "2023-08-18T19:31:21.137043Z",
          "iopub.status.busy": "2023-08-18T19:31:21.136126Z",
          "iopub.status.idle": "2023-08-18T19:31:23.159251Z",
          "shell.execute_reply": "2023-08-18T19:31:23.158224Z"
        },
        "origin_pos": 11,
        "tab": [
          "pytorch"
        ],
        "id": "d211233b",
        "outputId": "7d469aaf-4c82-42c4-c5d5-6790623f3883",
        "colab": {
          "base_uri": "https://localhost:8080/"
        }
      },
      "outputs": [
        {
          "output_type": "execute_result",
          "data": {
            "text/plain": [
              "(tensor([[3., 0., 1.],\n",
              "         [2., 0., 1.],\n",
              "         [4., 1., 0.],\n",
              "         [3., 0., 1.]], dtype=torch.float64),\n",
              " tensor([127500., 106000., 178100., 140000.], dtype=torch.float64))"
            ]
          },
          "metadata": {},
          "execution_count": 5
        }
      ],
      "source": [
        "import torch\n",
        "\n",
        "X = torch.tensor(inputs.to_numpy(dtype=float))\n",
        "y = torch.tensor(targets.to_numpy(dtype=float))\n",
        "X, y"
      ]
    },
    {
      "cell_type": "markdown",
      "id": "2a3027b6",
      "metadata": {
        "origin_pos": 14,
        "id": "2a3027b6"
      },
      "source": [
        "## Discussion\n",
        "\n",
        "You now know how to partition data columns,\n",
        "impute missing variables,\n",
        "and load `pandas` data into tensors.\n",
        "In :numref:`sec_kaggle_house`, you will\n",
        "pick up some more data processing skills.\n",
        "While this crash course kept things simple,\n",
        "data processing can get hairy.\n",
        "For example, rather than arriving in a single CSV file,\n",
        "our dataset might be spread across multiple files\n",
        "extracted from a relational database.\n",
        "For instance, in an e-commerce application,\n",
        "customer addresses might live in one table\n",
        "and purchase data in another.\n",
        "Moreover, practitioners face myriad data types\n",
        "beyond categorical and numeric, for example,\n",
        "text strings, images,\n",
        "audio data, and point clouds.\n",
        "Oftentimes, advanced tools and efficient algorithms\n",
        "are required in order to prevent data processing from becoming\n",
        "the biggest bottleneck in the machine learning pipeline.\n",
        "These problems will arise when we get to\n",
        "computer vision and natural language processing.\n",
        "Finally, we must pay attention to data quality.\n",
        "Real-world datasets are often plagued\n",
        "by outliers, faulty measurements from sensors, and recording errors,\n",
        "which must be addressed before\n",
        "feeding the data into any model.\n",
        "Data visualization tools such as [seaborn](https://seaborn.pydata.org/),\n",
        "[Bokeh](https://docs.bokeh.org/), or [matplotlib](https://matplotlib.org/)\n",
        "can help you to manually inspect the data\n",
        "and develop intuitions about\n",
        "the type of problems you may need to address.\n",
        "\n",
        "\n",
        "## Exercises\n",
        "\n",
        "1. Try loading datasets, e.g., Abalone from the [UCI Machine Learning Repository](https://archive.ics.uci.edu/ml/datasets.php) and inspect their properties. What fraction of them has missing values? What fraction of the variables is numerical, categorical, or text?\n",
        "1. Try indexing and selecting data columns by name rather than by column number. The pandas documentation on [indexing](https://pandas.pydata.org/pandas-docs/stable/user_guide/indexing.html) has further details on how to do this.\n",
        "1. How large a dataset do you think you could load this way? What might be the limitations? Hint: consider the time to read the data, representation, processing, and memory footprint. Try this out on your laptop. What happens if you try it out on a server?\n",
        "1. How would you deal with data that has a very large number of categories? What if the category labels are all unique? Should you include the latter?\n",
        "1. What alternatives to pandas can you think of? How about [loading NumPy tensors from a file](https://numpy.org/doc/stable/reference/generated/numpy.load.html)? Check out [Pillow](https://python-pillow.org/), the Python Imaging Library.\n"
      ]
    },
    {
      "cell_type": "markdown",
      "id": "634223ee",
      "metadata": {
        "origin_pos": 16,
        "tab": [
          "pytorch"
        ],
        "id": "634223ee"
      },
      "source": [
        "[Discussions](https://discuss.d2l.ai/t/29)\n"
      ]
    },
    {
      "cell_type": "code",
      "source": [],
      "metadata": {
        "id": "0PZFqHvYt5tH",
        "outputId": "afb2ae72-730d-414f-a605-74704c9d3624",
        "colab": {
          "base_uri": "https://localhost:8080/",
          "height": 206
        }
      },
      "id": "0PZFqHvYt5tH",
      "execution_count": 10,
      "outputs": [
        {
          "output_type": "execute_result",
          "data": {
            "text/plain": [
              "           1254 0 40 1 1 0 0\n",
              "0    -9 2 140 0 289 -9 -9 -9\n",
              "1       0 -9 -9 0 12 16 84 0\n",
              "2        0 0 0 0 150 18 -9 7\n",
              "3  172 86 200 110 140 86 0 0\n",
              "4     0 -9 26 20 -9 -9 -9 -9"
            ],
            "text/html": [
              "\n",
              "  <div id=\"df-72a80422-b24c-4d53-887d-959b60407127\" class=\"colab-df-container\">\n",
              "    <div>\n",
              "<style scoped>\n",
              "    .dataframe tbody tr th:only-of-type {\n",
              "        vertical-align: middle;\n",
              "    }\n",
              "\n",
              "    .dataframe tbody tr th {\n",
              "        vertical-align: top;\n",
              "    }\n",
              "\n",
              "    .dataframe thead th {\n",
              "        text-align: right;\n",
              "    }\n",
              "</style>\n",
              "<table border=\"1\" class=\"dataframe\">\n",
              "  <thead>\n",
              "    <tr style=\"text-align: right;\">\n",
              "      <th></th>\n",
              "      <th>1254 0 40 1 1 0 0</th>\n",
              "    </tr>\n",
              "  </thead>\n",
              "  <tbody>\n",
              "    <tr>\n",
              "      <th>0</th>\n",
              "      <td>-9 2 140 0 289 -9 -9 -9</td>\n",
              "    </tr>\n",
              "    <tr>\n",
              "      <th>1</th>\n",
              "      <td>0 -9 -9 0 12 16 84 0</td>\n",
              "    </tr>\n",
              "    <tr>\n",
              "      <th>2</th>\n",
              "      <td>0 0 0 0 150 18 -9 7</td>\n",
              "    </tr>\n",
              "    <tr>\n",
              "      <th>3</th>\n",
              "      <td>172 86 200 110 140 86 0 0</td>\n",
              "    </tr>\n",
              "    <tr>\n",
              "      <th>4</th>\n",
              "      <td>0 -9 26 20 -9 -9 -9 -9</td>\n",
              "    </tr>\n",
              "  </tbody>\n",
              "</table>\n",
              "</div>\n",
              "    <div class=\"colab-df-buttons\">\n",
              "\n",
              "  <div class=\"colab-df-container\">\n",
              "    <button class=\"colab-df-convert\" onclick=\"convertToInteractive('df-72a80422-b24c-4d53-887d-959b60407127')\"\n",
              "            title=\"Convert this dataframe to an interactive table.\"\n",
              "            style=\"display:none;\">\n",
              "\n",
              "  <svg xmlns=\"http://www.w3.org/2000/svg\" height=\"24px\" viewBox=\"0 -960 960 960\">\n",
              "    <path d=\"M120-120v-720h720v720H120Zm60-500h600v-160H180v160Zm220 220h160v-160H400v160Zm0 220h160v-160H400v160ZM180-400h160v-160H180v160Zm440 0h160v-160H620v160ZM180-180h160v-160H180v160Zm440 0h160v-160H620v160Z\"/>\n",
              "  </svg>\n",
              "    </button>\n",
              "\n",
              "  <style>\n",
              "    .colab-df-container {\n",
              "      display:flex;\n",
              "      gap: 12px;\n",
              "    }\n",
              "\n",
              "    .colab-df-convert {\n",
              "      background-color: #E8F0FE;\n",
              "      border: none;\n",
              "      border-radius: 50%;\n",
              "      cursor: pointer;\n",
              "      display: none;\n",
              "      fill: #1967D2;\n",
              "      height: 32px;\n",
              "      padding: 0 0 0 0;\n",
              "      width: 32px;\n",
              "    }\n",
              "\n",
              "    .colab-df-convert:hover {\n",
              "      background-color: #E2EBFA;\n",
              "      box-shadow: 0px 1px 2px rgba(60, 64, 67, 0.3), 0px 1px 3px 1px rgba(60, 64, 67, 0.15);\n",
              "      fill: #174EA6;\n",
              "    }\n",
              "\n",
              "    .colab-df-buttons div {\n",
              "      margin-bottom: 4px;\n",
              "    }\n",
              "\n",
              "    [theme=dark] .colab-df-convert {\n",
              "      background-color: #3B4455;\n",
              "      fill: #D2E3FC;\n",
              "    }\n",
              "\n",
              "    [theme=dark] .colab-df-convert:hover {\n",
              "      background-color: #434B5C;\n",
              "      box-shadow: 0px 1px 3px 1px rgba(0, 0, 0, 0.15);\n",
              "      filter: drop-shadow(0px 1px 2px rgba(0, 0, 0, 0.3));\n",
              "      fill: #FFFFFF;\n",
              "    }\n",
              "  </style>\n",
              "\n",
              "    <script>\n",
              "      const buttonEl =\n",
              "        document.querySelector('#df-72a80422-b24c-4d53-887d-959b60407127 button.colab-df-convert');\n",
              "      buttonEl.style.display =\n",
              "        google.colab.kernel.accessAllowed ? 'block' : 'none';\n",
              "\n",
              "      async function convertToInteractive(key) {\n",
              "        const element = document.querySelector('#df-72a80422-b24c-4d53-887d-959b60407127');\n",
              "        const dataTable =\n",
              "          await google.colab.kernel.invokeFunction('convertToInteractive',\n",
              "                                                    [key], {});\n",
              "        if (!dataTable) return;\n",
              "\n",
              "        const docLinkHtml = 'Like what you see? Visit the ' +\n",
              "          '<a target=\"_blank\" href=https://colab.research.google.com/notebooks/data_table.ipynb>data table notebook</a>'\n",
              "          + ' to learn more about interactive tables.';\n",
              "        element.innerHTML = '';\n",
              "        dataTable['output_type'] = 'display_data';\n",
              "        await google.colab.output.renderOutput(dataTable, element);\n",
              "        const docLink = document.createElement('div');\n",
              "        docLink.innerHTML = docLinkHtml;\n",
              "        element.appendChild(docLink);\n",
              "      }\n",
              "    </script>\n",
              "  </div>\n",
              "\n",
              "\n",
              "<div id=\"df-8d4372a8-4376-4fbb-88d2-48bee3395c16\">\n",
              "  <button class=\"colab-df-quickchart\" onclick=\"quickchart('df-8d4372a8-4376-4fbb-88d2-48bee3395c16')\"\n",
              "            title=\"Suggest charts\"\n",
              "            style=\"display:none;\">\n",
              "\n",
              "<svg xmlns=\"http://www.w3.org/2000/svg\" height=\"24px\"viewBox=\"0 0 24 24\"\n",
              "     width=\"24px\">\n",
              "    <g>\n",
              "        <path d=\"M19 3H5c-1.1 0-2 .9-2 2v14c0 1.1.9 2 2 2h14c1.1 0 2-.9 2-2V5c0-1.1-.9-2-2-2zM9 17H7v-7h2v7zm4 0h-2V7h2v10zm4 0h-2v-4h2v4z\"/>\n",
              "    </g>\n",
              "</svg>\n",
              "  </button>\n",
              "\n",
              "<style>\n",
              "  .colab-df-quickchart {\n",
              "      --bg-color: #E8F0FE;\n",
              "      --fill-color: #1967D2;\n",
              "      --hover-bg-color: #E2EBFA;\n",
              "      --hover-fill-color: #174EA6;\n",
              "      --disabled-fill-color: #AAA;\n",
              "      --disabled-bg-color: #DDD;\n",
              "  }\n",
              "\n",
              "  [theme=dark] .colab-df-quickchart {\n",
              "      --bg-color: #3B4455;\n",
              "      --fill-color: #D2E3FC;\n",
              "      --hover-bg-color: #434B5C;\n",
              "      --hover-fill-color: #FFFFFF;\n",
              "      --disabled-bg-color: #3B4455;\n",
              "      --disabled-fill-color: #666;\n",
              "  }\n",
              "\n",
              "  .colab-df-quickchart {\n",
              "    background-color: var(--bg-color);\n",
              "    border: none;\n",
              "    border-radius: 50%;\n",
              "    cursor: pointer;\n",
              "    display: none;\n",
              "    fill: var(--fill-color);\n",
              "    height: 32px;\n",
              "    padding: 0;\n",
              "    width: 32px;\n",
              "  }\n",
              "\n",
              "  .colab-df-quickchart:hover {\n",
              "    background-color: var(--hover-bg-color);\n",
              "    box-shadow: 0 1px 2px rgba(60, 64, 67, 0.3), 0 1px 3px 1px rgba(60, 64, 67, 0.15);\n",
              "    fill: var(--button-hover-fill-color);\n",
              "  }\n",
              "\n",
              "  .colab-df-quickchart-complete:disabled,\n",
              "  .colab-df-quickchart-complete:disabled:hover {\n",
              "    background-color: var(--disabled-bg-color);\n",
              "    fill: var(--disabled-fill-color);\n",
              "    box-shadow: none;\n",
              "  }\n",
              "\n",
              "  .colab-df-spinner {\n",
              "    border: 2px solid var(--fill-color);\n",
              "    border-color: transparent;\n",
              "    border-bottom-color: var(--fill-color);\n",
              "    animation:\n",
              "      spin 1s steps(1) infinite;\n",
              "  }\n",
              "\n",
              "  @keyframes spin {\n",
              "    0% {\n",
              "      border-color: transparent;\n",
              "      border-bottom-color: var(--fill-color);\n",
              "      border-left-color: var(--fill-color);\n",
              "    }\n",
              "    20% {\n",
              "      border-color: transparent;\n",
              "      border-left-color: var(--fill-color);\n",
              "      border-top-color: var(--fill-color);\n",
              "    }\n",
              "    30% {\n",
              "      border-color: transparent;\n",
              "      border-left-color: var(--fill-color);\n",
              "      border-top-color: var(--fill-color);\n",
              "      border-right-color: var(--fill-color);\n",
              "    }\n",
              "    40% {\n",
              "      border-color: transparent;\n",
              "      border-right-color: var(--fill-color);\n",
              "      border-top-color: var(--fill-color);\n",
              "    }\n",
              "    60% {\n",
              "      border-color: transparent;\n",
              "      border-right-color: var(--fill-color);\n",
              "    }\n",
              "    80% {\n",
              "      border-color: transparent;\n",
              "      border-right-color: var(--fill-color);\n",
              "      border-bottom-color: var(--fill-color);\n",
              "    }\n",
              "    90% {\n",
              "      border-color: transparent;\n",
              "      border-bottom-color: var(--fill-color);\n",
              "    }\n",
              "  }\n",
              "</style>\n",
              "\n",
              "  <script>\n",
              "    async function quickchart(key) {\n",
              "      const quickchartButtonEl =\n",
              "        document.querySelector('#' + key + ' button');\n",
              "      quickchartButtonEl.disabled = true;  // To prevent multiple clicks.\n",
              "      quickchartButtonEl.classList.add('colab-df-spinner');\n",
              "      try {\n",
              "        const charts = await google.colab.kernel.invokeFunction(\n",
              "            'suggestCharts', [key], {});\n",
              "      } catch (error) {\n",
              "        console.error('Error during call to suggestCharts:', error);\n",
              "      }\n",
              "      quickchartButtonEl.classList.remove('colab-df-spinner');\n",
              "      quickchartButtonEl.classList.add('colab-df-quickchart-complete');\n",
              "    }\n",
              "    (() => {\n",
              "      let quickchartButtonEl =\n",
              "        document.querySelector('#df-8d4372a8-4376-4fbb-88d2-48bee3395c16 button');\n",
              "      quickchartButtonEl.style.display =\n",
              "        google.colab.kernel.accessAllowed ? 'block' : 'none';\n",
              "    })();\n",
              "  </script>\n",
              "</div>\n",
              "\n",
              "    </div>\n",
              "  </div>\n"
            ],
            "application/vnd.google.colaboratory.intrinsic+json": {
              "type": "dataframe",
              "variable_name": "hungarian_data",
              "summary": "{\n  \"name\": \"hungarian_data\",\n  \"rows\": 2939,\n  \"fields\": [\n    {\n      \"column\": \"1254 0 40 1 1 0 0\",\n      \"properties\": {\n        \"dtype\": \"string\",\n        \"num_unique_values\": 1847,\n        \"samples\": [\n          \"1.5 -9 14 14 -9 -9 -9 -9\",\n          \"-9 4 120 0 225 -9 -9 -9\",\n          \"3 2 12 10 -9 -9 -9 -9\"\n        ],\n        \"semantic_type\": \"\",\n        \"description\": \"\"\n      }\n    }\n  ]\n}"
            }
          },
          "metadata": {},
          "execution_count": 10
        }
      ]
    }
  ],
  "metadata": {
    "kernelspec": {
      "display_name": "Python 3",
      "name": "python3"
    },
    "language_info": {
      "name": "python"
    },
    "required_libs": [],
    "colab": {
      "provenance": [],
      "include_colab_link": true
    }
  },
  "nbformat": 4,
  "nbformat_minor": 5
}